{
 "cells": [
  {
   "cell_type": "markdown",
   "id": "f725568f",
   "metadata": {},
   "source": [
    "# Q1. What are the two latest user-defined exception constraints in Python 3.X?\n",
    "\n",
    "Answer--raise and assert are the two latest user-defined exception constraints in Python 3.X"
   ]
  },
  {
   "cell_type": "markdown",
   "id": "df037d62",
   "metadata": {},
   "source": [
    "# Q2. How are class-based exceptions that have been raised matched to handlers?\n",
    "\n",
    "Answer--These exceptions are defined by exception classes, from which an exception object can be created when an exception is raised (if a handler uses the addition INTO in CATCH). A class-based exception can either cancel the current context or allow for a resume. Exceptions are raised using the statement RAISE EXCEPTION and handled using CATCH in a TRY control structure. Class-based exceptions can be raised in any procedures and can be further propagated by any procedures.\n"
   ]
  },
  {
   "cell_type": "code",
   "execution_count": 4,
   "id": "ecbccbca",
   "metadata": {},
   "outputs": [
    {
     "name": "stdout",
     "output_type": "stream",
     "text": [
      "CustomException handler\n"
     ]
    }
   ],
   "source": [
    "class CustomException(Exception):\n",
    "    pass\n",
    "\n",
    "class SubException(CustomException):\n",
    "    pass\n",
    "\n",
    "try:\n",
    "    raise SubException(\"An error occurred\")\n",
    "except CustomException:\n",
    "    print(\"CustomException handler\")\n",
    "except Exception:\n",
    "    print(\"Exception handler\")\n"
   ]
  },
  {
   "cell_type": "markdown",
   "id": "6d841289",
   "metadata": {},
   "source": [
    "# Q3. Describe two methods for attaching context information to exception artefacts.\n",
    "Answer-- Exception arguments: One common method is to include relevant context information as arguments when creating and raising an exception. By passing additional data as arguments to the exception constructor, you can attach specific details that provide context about the error.\n",
    "\n",
    "Exception attributes: Another method is to add context information as attributes to the exception instance. This approach allows you to dynamically attach context information to the exception object as needed."
   ]
  },
  {
   "cell_type": "markdown",
   "id": "62f69bff",
   "metadata": {},
   "source": [
    "# Q4. Describe two methods for specifying the text of an exception object's error message ?\n",
    "Answer--raise and assert are two methods for specifying the text of an exception object's error message.raise statement is used to trigger explicit exception, if certain condition is not as per requirement of programmer. it helps in triggering exception as per need of programmer and logic.\n",
    "\n",
    "There are few assertions that programmer always want to be True to avoid code failure. This type of requirment is fullfilled by assert statement. This statement takes a Boolean Condition output of which if True, further program executes. if output of assert statement is False it raises an Assertion Error."
   ]
  },
  {
   "cell_type": "markdown",
   "id": "6a917505",
   "metadata": {},
   "source": [
    "# Q5. Why do you no longer use string-based exceptions?\n",
    "Answer--String-based Exceptions doesn't inherit from Exceptions. so plain exceptions catch all exceptions and not only system."
   ]
  }
 ],
 "metadata": {
  "kernelspec": {
   "display_name": "Python 3 (ipykernel)",
   "language": "python",
   "name": "python3"
  },
  "language_info": {
   "codemirror_mode": {
    "name": "ipython",
    "version": 3
   },
   "file_extension": ".py",
   "mimetype": "text/x-python",
   "name": "python",
   "nbconvert_exporter": "python",
   "pygments_lexer": "ipython3",
   "version": "3.9.12"
  }
 },
 "nbformat": 4,
 "nbformat_minor": 5
}
