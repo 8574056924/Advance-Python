{
 "cells": [
  {
   "cell_type": "markdown",
   "id": "80c0499f",
   "metadata": {},
   "source": [
    "# Q1. Which two operator overloading methods can you use in your classes to support iteration?\n",
    "Answer--\n",
    "__iter__(self): This method allows an object to be iterable by returning an iterator object. The iterator object should implement the __next__() method to provide values during iteration. Typically, __iter__() returns self to make the object itself iterable. This method is called once at the beginning of an iteration.\n",
    "\n",
    "__next__(self): This method is used by the iterator object returned from __iter__() to provide the next value in the iteration sequence. It should raise the StopIteration exception when there are no more values to yield. This method is called repeatedly in each iteration step."
   ]
  },
  {
   "cell_type": "markdown",
   "id": "74081e13",
   "metadata": {},
   "source": [
    "# Q2. In what contexts do the two operator overloading methods manage printing?\n",
    "Answer--\n",
    "__str__(self): This method is used to provide a string representation of the object. It should return a human-readable string that represents the object's state. It is typically called by the built-in str() function or when the object is passed to the print() function. The __str__() method is meant to provide a concise and informative representation of the object.\n",
    "\n",
    "__repr__(self): This method is used to provide a more detailed and unambiguous representation of the object. It should return a string that can be used to recreate the object. The __repr__() method is usually called by the built-in repr() function or when the object is printed in the interactive console. The string returned by __repr__() should be a valid Python expression that could be evaluated to create a new object with the same state."
   ]
  },
  {
   "cell_type": "markdown",
   "id": "f68988bb",
   "metadata": {},
   "source": [
    "# Q3. In a class, how do you intercept slice operations?\n",
    "Answer--To intercept slice operations in a class, you can use the __getitem__() method with slice notation. By implementing this method, you can customize how objects of your class behave when accessed using slice notation."
   ]
  },
  {
   "cell_type": "markdown",
   "id": "fa7424ff",
   "metadata": {},
   "source": [
    "# Q4. In a class, how do you capture in-place addition?\n",
    "Answer--In a class __iadd__ method is used for this in-place addition operation."
   ]
  },
  {
   "cell_type": "code",
   "execution_count": 3,
   "id": "484e871b",
   "metadata": {},
   "outputs": [
    {
     "name": "stdout",
     "output_type": "stream",
     "text": [
      "1700\n"
     ]
    }
   ],
   "source": [
    "class pocket_Money:\n",
    "    def __init__(self,rupee):\n",
    "        self.rupee = rupee\n",
    "    def __iadd__(self,rupees):\n",
    "        self.rupee += rupees.rupee\n",
    "        return self.rupee\n",
    "pocket1 = pocket_Money(800)\n",
    "pocket2 =  pocket_Money(900)\n",
    "pocket1+=pocket2\n",
    "print(pocket1)\n",
    "    "
   ]
  },
  {
   "cell_type": "markdown",
   "id": "f4b6a51d",
   "metadata": {},
   "source": [
    "# Q5. When is it appropriate to use operator overloading?\n",
    "Answer -- Operator overloading is used when we want to use an operator other than its normal operation to have different meaning according to the context required in user defined function."
   ]
  }
 ],
 "metadata": {
  "kernelspec": {
   "display_name": "Python 3 (ipykernel)",
   "language": "python",
   "name": "python3"
  },
  "language_info": {
   "codemirror_mode": {
    "name": "ipython",
    "version": 3
   },
   "file_extension": ".py",
   "mimetype": "text/x-python",
   "name": "python",
   "nbconvert_exporter": "python",
   "pygments_lexer": "ipython3",
   "version": "3.9.12"
  }
 },
 "nbformat": 4,
 "nbformat_minor": 5
}
