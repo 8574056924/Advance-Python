{
 "cells": [
  {
   "cell_type": "markdown",
   "id": "42842775",
   "metadata": {},
   "source": [
    "# Q1. What is the meaning of multiple inheritance?\n",
    "\n",
    "Answer--A class can inherit attributes and methods from multiple base classes simultaneously.\n",
    "        the subclass has access to all the attributes and methods defined in each of its parent classes.\n"
   ]
  },
  {
   "cell_type": "markdown",
   "id": "b6c0a1a3",
   "metadata": {},
   "source": [
    "# Q2. What is the concept of delegation?\n",
    "\n",
    "Answer--Delegation is a design pattern and a concept in object-oriented programming where an object forwards or delegates a specific task or responsibility to another object. Instead of implementing the behavior directly, the delegating object relies on another object to perform the task on its behalf."
   ]
  },
  {
   "cell_type": "markdown",
   "id": "d5707e3b",
   "metadata": {},
   "source": [
    "# Q3. What is the concept of composition?\n",
    "\n",
    "Answer--In the concept of Composition, a class refers to one or more other classes by using instances of those classes as a instance variable. irrespective of inheritence in this approach all the parent class members are not inherited into child class, but only required methods from a class are used by using class instances."
   ]
  },
  {
   "cell_type": "markdown",
   "id": "9f84ec00",
   "metadata": {},
   "source": [
    "# Q4. What are bound methods and how do we use them?\n",
    "\n",
    "Answer--In Python, a bound method refers to a method that is associated with a specific instance of a class. When a method is called on an instance, it becomes a bound method, where the instance itself is implicitly passed as the first argument (commonly referred to as self)."
   ]
  },
  {
   "cell_type": "code",
   "execution_count": 4,
   "id": "b7699098",
   "metadata": {},
   "outputs": [
    {
     "name": "stdout",
     "output_type": "stream",
     "text": [
      "Value: 10\n"
     ]
    }
   ],
   "source": [
    "class MyClass:\n",
    "    def __init__(self, value):\n",
    "        self.value = value\n",
    "\n",
    "    def display(self):\n",
    "        print(\"Value:\", self.value)\n",
    "\n",
    "obj = MyClass(10)\n",
    "obj.display()  \n"
   ]
  },
  {
   "cell_type": "markdown",
   "id": "eb80abbf",
   "metadata": {},
   "source": [
    "# Q5. What is the purpose of pseudoprivate attributes?\n",
    "Answer--The purpose of pseudoprivate attributes is to signal to other developers that an attribute is intended for internal use within the class and should not be accessed or modified directly from outside the class. It serves as a form of information hiding and encapsulation, promoting encapsulation of implementation details."
   ]
  },
  {
   "cell_type": "code",
   "execution_count": 5,
   "id": "2ef3e6c9",
   "metadata": {},
   "outputs": [
    {
     "name": "stdout",
     "output_type": "stream",
     "text": [
      "10\n",
      "Private method\n"
     ]
    }
   ],
   "source": [
    "class MyClass:\n",
    "    def __init__(self):\n",
    "        self.__private_attribute = 10\n",
    "\n",
    "    def __private_method(self):\n",
    "        print(\"Private method\")\n",
    "\n",
    "obj = MyClass()\n",
    "print(obj._MyClass__private_attribute) \n",
    "obj._MyClass__private_method()  "
   ]
  },
  {
   "cell_type": "code",
   "execution_count": null,
   "id": "7c42b3f8",
   "metadata": {},
   "outputs": [],
   "source": []
  }
 ],
 "metadata": {
  "kernelspec": {
   "display_name": "Python 3 (ipykernel)",
   "language": "python",
   "name": "python3"
  },
  "language_info": {
   "codemirror_mode": {
    "name": "ipython",
    "version": 3
   },
   "file_extension": ".py",
   "mimetype": "text/x-python",
   "name": "python",
   "nbconvert_exporter": "python",
   "pygments_lexer": "ipython3",
   "version": "3.9.12"
  }
 },
 "nbformat": 4,
 "nbformat_minor": 5
}
