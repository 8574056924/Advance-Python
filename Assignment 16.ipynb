{
 "cells": [
  {
   "cell_type": "markdown",
   "id": "e88a4654",
   "metadata": {},
   "source": [
    "# Q1. What is the benefit of regular expressions?\n",
    "\n",
    "Answer--the benefit of regular expressions are a powerful tool for text processing, pattern matching, and data manipulation tasks. They provide a concise and expressive way to work with text data and are widely used in various domains, including data science, natural language processing, web development, and system administration.\n"
   ]
  },
  {
   "cell_type": "markdown",
   "id": "0ae7cb58",
   "metadata": {},
   "source": [
    "# Q2. Describe the difference between the effects of \"(ab)c+\" and \"a(bc)+\" Which of these, if any, is the unqualified pattern \"abc+\"?\n",
    "\n",
    "Answer--Both (ab)c+ and a(bc)+ are valid patterns. the difference between both these patterns is in (ab)c+ ab is group whereas in a(bc)+ bc is a group."
   ]
  },
  {
   "cell_type": "markdown",
   "id": "cdc53024",
   "metadata": {},
   "source": [
    "# Q3. How much do you need to use the following sentence while using regular expressions? import re\n",
    "\n",
    "Answer-- import re statement always has to be imported before using regular expressions."
   ]
  },
  {
   "cell_type": "markdown",
   "id": "b586882f",
   "metadata": {},
   "source": [
    "# Q4. Which characters have special significance in square brackets when expressing a range, and under what circumstances?\n",
    "\n",
    "Answer--The Characters .,*,?,^,or,(), have a special signiface when used with square brackets. They need not be be explicitly escaped by \\ as in case of pattern texts in a raw string."
   ]
  },
  {
   "cell_type": "markdown",
   "id": "6aeaef97",
   "metadata": {},
   "source": [
    "# Q5. How does compiling a regular-expression object benefit you?\n",
    "\n",
    "Answer--compiling a regular expression object in Python improves performance, enhances code organization, promotes code reusability, and allows for specifying flags and options for consistent matching behavior.\n",
    "we will use the re.compile() function for compiling a regular expression."
   ]
  },
  {
   "cell_type": "markdown",
   "id": "b67eb87b",
   "metadata": {},
   "source": [
    "# Q6. What are some examples of how to use the match object returned by re.match and re.search?\n"
   ]
  },
  {
   "cell_type": "code",
   "execution_count": 25,
   "id": "1f07871f",
   "metadata": {},
   "outputs": [
    {
     "name": "stdout",
     "output_type": "stream",
     "text": [
      "Number: 123\n",
      "Fruit: apple\n"
     ]
    }
   ],
   "source": [
    "import re\n",
    "\n",
    "pattern = r'(\\d+)-(\\w+)'\n",
    "text = '123-apple'\n",
    "\n",
    "match = re.search(pattern, text)\n",
    "if match:\n",
    "    print('Number:', match.group(1))\n",
    "    print('Fruit:', match.group(2))\n"
   ]
  },
  {
   "cell_type": "markdown",
   "id": "da7a158d",
   "metadata": {},
   "source": [
    "# Q7. What is the difference between using a vertical bar (|) as an alteration and using square brackets as a character set?\n",
    "\n",
    "Answer--When | us used then patterns searches for or option. i.e <pattern_1>|<pattern_2> means it searches as <pattern_1>or<<pattern_2> in the searched string. the first occurance of matched string will be returned as the Match Object. Using Character set in square Brackets searches for all the character set in the square bracket and if match is found, it returns it."
   ]
  },
  {
   "cell_type": "markdown",
   "id": "c0251840",
   "metadata": {},
   "source": [
    "# Q8. In regular-expression search patterns, why is it necessary to use the raw-string indicator (r)? In replacement strings?\n",
    "\n",
    "Answer--Raw Strings are used in the regular-expression search patterns, so that blackslashes donot have to be escaped."
   ]
  }
 ],
 "metadata": {
  "kernelspec": {
   "display_name": "Python 3 (ipykernel)",
   "language": "python",
   "name": "python3"
  },
  "language_info": {
   "codemirror_mode": {
    "name": "ipython",
    "version": 3
   },
   "file_extension": ".py",
   "mimetype": "text/x-python",
   "name": "python",
   "nbconvert_exporter": "python",
   "pygments_lexer": "ipython3",
   "version": "3.9.12"
  }
 },
 "nbformat": 4,
 "nbformat_minor": 5
}
