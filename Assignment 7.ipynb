{
 "cells": [
  {
   "cell_type": "markdown",
   "id": "9f4530aa",
   "metadata": {},
   "source": [
    "# Q1. What is the purpose of the try statement?\n",
    "\n",
    "Answe--1).First, the try clause is executed i.e. the code between try.\n",
    "2).If there is no exception, then only the try clause will run, except clause is finished.\n",
    "3).If any exception occurs, the try clause will be skipped and except clause will run.\n",
    "4).If any exception occurs, but the except clause within the code doesn’t handle it, it is passed on to the outer try 5).statements. If the exception is left unhandled, then the execution stops.\n",
    "6).A try statement can have more than one except clause.\n"
   ]
  },
  {
   "cell_type": "code",
   "execution_count": 1,
   "id": "565555d2",
   "metadata": {},
   "outputs": [
    {
     "name": "stdout",
     "output_type": "stream",
     "text": [
      "Division by Zero is Not Possible\n"
     ]
    }
   ],
   "source": [
    "try:\n",
    "    print(6/0)\n",
    "except ZeroDivisionError:\n",
    "    print('Division by Zero is Not Possible')"
   ]
  },
  {
   "cell_type": "markdown",
   "id": "61475a9d",
   "metadata": {},
   "source": [
    "# Q2. What are the two most popular try statement variations?\n",
    "\n",
    "Answer--try-except: This variation allows you to catch and handle specific exceptions that might occur within a block of code. It provides a way to handle exceptional situations gracefully. \n",
    "\n",
    "try-finally: This variation is used to ensure that certain code is executed regardless of whether an exception occurs or not. The code in the finally block will always be executed, whether an exception is raised or not."
   ]
  },
  {
   "cell_type": "markdown",
   "id": "efb5e668",
   "metadata": {},
   "source": [
    "# Q3. What is the purpose of the raise statement?\n",
    "\n",
    "Answer--Python raise Keyword is used to raise exceptions or errors. The raise keyword raises an error and stops the control flow of the program."
   ]
  },
  {
   "cell_type": "markdown",
   "id": "e5306b3b",
   "metadata": {},
   "source": [
    "# Q4. What does the assert statement do, and what other statement is it like?\n",
    "\n",
    "Answer--There are few assertions that programmer always want to be true to avoid code failure. This type of requirement is fulfilled by assert statement. This statement takes a boolean condition output of which is True, Further Program Executes. if output of assert statement is False, it raises an Assertion Error."
   ]
  },
  {
   "cell_type": "code",
   "execution_count": 3,
   "id": "feca0cd9",
   "metadata": {},
   "outputs": [
    {
     "ename": "AssertionError",
     "evalue": "",
     "output_type": "error",
     "traceback": [
      "\u001b[1;31m---------------------------------------------------------------------------\u001b[0m",
      "\u001b[1;31mAssertionError\u001b[0m                            Traceback (most recent call last)",
      "Input \u001b[1;32mIn [3]\u001b[0m, in \u001b[0;36m<cell line: 1>\u001b[1;34m()\u001b[0m\n\u001b[1;32m----> 1\u001b[0m \u001b[38;5;28;01massert\u001b[39;00m(\u001b[38;5;241m6\u001b[39m\u001b[38;5;241m==\u001b[39m\u001b[38;5;241m7\u001b[39m)\n",
      "\u001b[1;31mAssertionError\u001b[0m: "
     ]
    }
   ],
   "source": [
    "assert(6==7)"
   ]
  },
  {
   "cell_type": "markdown",
   "id": "4f9db0c0",
   "metadata": {},
   "source": [
    "# Q5. What is the purpose of the with/as argument, and what other statement is it like?\n",
    "\n",
    "Answer--with/as statement simplifies use of file handling in python. When we use a with statement for file reading, there is no need for programmer to explicitly takecare of activities like resource deallocation and file closing by using file.close() method. with statement itself ensures proper acquisition and release of resources. this avoids triggering of exceptions if file closing is unknowingly forgotten in the code execution."
   ]
  }
 ],
 "metadata": {
  "kernelspec": {
   "display_name": "Python 3 (ipykernel)",
   "language": "python",
   "name": "python3"
  },
  "language_info": {
   "codemirror_mode": {
    "name": "ipython",
    "version": 3
   },
   "file_extension": ".py",
   "mimetype": "text/x-python",
   "name": "python",
   "nbconvert_exporter": "python",
   "pygments_lexer": "ipython3",
   "version": "3.9.12"
  }
 },
 "nbformat": 4,
 "nbformat_minor": 5
}
