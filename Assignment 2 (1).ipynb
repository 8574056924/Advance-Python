{
 "cells": [
  {
   "cell_type": "markdown",
   "id": "f48ecd38",
   "metadata": {},
   "source": [
    "# Q1. What is the relationship between classes and modules?\n",
    "Answer-- \n",
    "Class:\n",
    "\n",
    "    1. A Class is like an object constructor, or a \"blueprint\" for creating objects.\n",
    "    2. a class can be instantiated.\n",
    "    3. Class can hold its state (by keeping track of instance variables)\n",
    "    4. class be duplicated as many times as you want by creating objects(instances)\n",
    "Module:\n",
    "\n",
    "    1. A module is a file containing Python definitions and statements. The file name is the module name with \n",
    "       the suffix .py appended. Within a module, the module’s name (as a string) is available as the value of \n",
    "       the global variable __name__. \n",
    "    2. Modules can be imported.\n",
    "    3. Module methods can be included or extended into instance methods."
   ]
  },
  {
   "cell_type": "markdown",
   "id": "22c27c31",
   "metadata": {},
   "source": [
    "# Q2. How do you make instances and classes?\n",
    "Answer--\n",
    "Instances To create instances of a class, we call the class using class name and pass in whatever arguments its init method accepts.\n",
    "\n",
    "Ex objclass = ClasseA(2,4)\n",
    "objclass is instance of class.\n",
    "\n",
    "Classes A class is a user-defined blueprint or prototype from which objects are created.\n",
    "\n",
    "ex : def classA:\n",
    "        pass    \n"
   ]
  },
  {
   "cell_type": "markdown",
   "id": "8d6167f3",
   "metadata": {},
   "source": [
    "# Q3. Where and how should be class attributes created?\n",
    "Answer-- class attributes defined directly inside a class.\n",
    "         Shared across all objects.\n",
    "         \n",
    "         class Student:\n",
    "            count = 0\n",
    "        def __init__(self):\n",
    "            Student.count += 1                \n",
    "        "
   ]
  },
  {
   "cell_type": "markdown",
   "id": "50e62876",
   "metadata": {},
   "source": [
    "# Q4. Where and how are instance attributes created?\n",
    "Answer--Defined inside a constructor using the self parameter.\n",
    "        Shared across all objects.\tSpecific to object.\n",
    "        \n",
    "        class Student:\n",
    "            def __init__(self, name, age): \n",
    "                self.name = name\n",
    "                self.age = age\n",
    "        std1 = Student('vaibhav',25)\n",
    "        std1.name"
   ]
  },
  {
   "cell_type": "markdown",
   "id": "870895f1",
   "metadata": {},
   "source": [
    "# Q5. What does the term 'self' in a Python class mean?\n",
    "Answer--self represents the instance of the class. By using the “self” we can access the attributes and methods of the class in python. It binds the attributes with the given arguments. "
   ]
  },
  {
   "cell_type": "markdown",
   "id": "04db41ac",
   "metadata": {},
   "source": [
    "# Q6. How does a Python class handle operator overloading?\n",
    "Answer -- To achieve operator overloading, we define a special method in a class definition. The name of the method should begin and end with a double underscore (_). The + operator is overloaded using a special method named add() . This method is implemented by both the int and str classes.\n",
    "\n",
    "following are some of the operator overloading magic function from python\n",
    "\n",
    "+\t__add__(self, other)\n",
    "–\t__sub__(self, other)\n",
    "*\t__mul__(self, other)\n",
    "/\t__truediv__(self, other)\n",
    "//\t__floordiv__(self, other)\n",
    "%\t__mod__(self, other)\n",
    "**\t__pow__(self, other)"
   ]
  },
  {
   "cell_type": "markdown",
   "id": "b2a035fe",
   "metadata": {},
   "source": [
    "# Q7. When do you consider allowing operator overloading of your classes?\n",
    "Answer--it's important to use operator overloading judiciously and only when it makes sense for the semantics of your class."
   ]
  },
  {
   "cell_type": "markdown",
   "id": "cbccaab2",
   "metadata": {},
   "source": [
    "# Q8. What is the most popular form of operator overloading?\n",
    "Answer-- Addition operation(+)"
   ]
  },
  {
   "cell_type": "markdown",
   "id": "5cf52add",
   "metadata": {},
   "source": [
    "# Q9. What are the two most important concepts to grasp in order to comprehend Python OOP code?\n",
    "\n",
    "Answer--inheritance and polymorphism"
   ]
  }
 ],
 "metadata": {
  "kernelspec": {
   "display_name": "Python 3 (ipykernel)",
   "language": "python",
   "name": "python3"
  },
  "language_info": {
   "codemirror_mode": {
    "name": "ipython",
    "version": 3
   },
   "file_extension": ".py",
   "mimetype": "text/x-python",
   "name": "python",
   "nbconvert_exporter": "python",
   "pygments_lexer": "ipython3",
   "version": "3.9.12"
  }
 },
 "nbformat": 4,
 "nbformat_minor": 5
}
