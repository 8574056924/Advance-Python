{
 "cells": [
  {
   "cell_type": "markdown",
   "id": "57d3ab13",
   "metadata": {},
   "source": [
    "# Q1. Does assigning a value to a string's indexed character violate Python's string immutability?\n",
    "\n",
    "Answer--]In Python, strings are immutable, which means that once a string is created, its contents cannot be changed."
   ]
  },
  {
   "cell_type": "code",
   "execution_count": 4,
   "id": "7e0a0001",
   "metadata": {},
   "outputs": [
    {
     "ename": "TypeError",
     "evalue": "'str' object does not support item assignment",
     "output_type": "error",
     "traceback": [
      "\u001b[1;31m---------------------------------------------------------------------------\u001b[0m",
      "\u001b[1;31mTypeError\u001b[0m                                 Traceback (most recent call last)",
      "Input \u001b[1;32mIn [4]\u001b[0m, in \u001b[0;36m<cell line: 2>\u001b[1;34m()\u001b[0m\n\u001b[0;32m      1\u001b[0m string \u001b[38;5;241m=\u001b[39m \u001b[38;5;124m'\u001b[39m\u001b[38;5;124mVishal Singh\u001b[39m\u001b[38;5;124m'\u001b[39m\n\u001b[1;32m----> 2\u001b[0m string[\u001b[38;5;241m2\u001b[39m] \u001b[38;5;241m=\u001b[39m \u001b[38;5;124m'\u001b[39m\u001b[38;5;124my\u001b[39m\u001b[38;5;124m'\u001b[39m\n",
      "\u001b[1;31mTypeError\u001b[0m: 'str' object does not support item assignment"
     ]
    }
   ],
   "source": [
    "string = 'Vishal Singh'\n",
    "string[2] = 'y'"
   ]
  },
  {
   "cell_type": "markdown",
   "id": "f6091704",
   "metadata": {},
   "source": [
    "# Q2. Does using the += operator to concatenate strings violate Python's string immutability? Why or] why not?\n",
    "\n",
    "Answer--No, using the += operator to concatenate strings does not violate Python's string immutability. The += operator for string concatenation does not modify the existing string in-place, but rather creates a new string that is the concatenation of the original string and the appended string."
   ]
  },
  {
   "cell_type": "code",
   "execution_count": 5,
   "id": "ca45acb9",
   "metadata": {},
   "outputs": [
    {
     "name": "stdout",
     "output_type": "stream",
     "text": [
      "Hello, World!\n"
     ]
    }
   ],
   "source": [
    "string1 = \"Hello, \"\n",
    "string2 = \"World!\"\n",
    "string1 += string2\n",
    "\n",
    "print(string1)"
   ]
  },
  {
   "cell_type": "markdown",
   "id": "3e082753",
   "metadata": {},
   "source": [
    "# Q3. In Python, how many different ways are there to index a character?\n",
    "\n",
    "Answer--These are the three main ways to index a character in Python. By combining positive indexing, negative indexing, and slicing, you can access individual characters or extract substrings from a string based on your requirements."
   ]
  },
  {
   "cell_type": "code",
   "execution_count": 6,
   "id": "3ae45f7f",
   "metadata": {},
   "outputs": [
    {
     "name": "stdout",
     "output_type": "stream",
     "text": [
      "V\n",
      "l\n",
      "s\n"
     ]
    }
   ],
   "source": [
    "String = 'Vishal'\n",
    "print(String[0])\n",
    "print(String[-1])\n",
    "print(String[2:3])"
   ]
  },
  {
   "cell_type": "markdown",
   "id": "d6bcf981",
   "metadata": {},
   "source": [
    "# Q4. What is the relationship between indexing and slicing?\n",
    "\n",
    "Answer-- “Indexing” means referring to an element of an iterable by its position within the iterable. “Slicing” means getting a subset of elements from an iterable based on their indices."
   ]
  },
  {
   "cell_type": "markdown",
   "id": "fb59e9b0",
   "metadata": {},
   "source": [
    "# Q5. What is an indexed character's exact data type? What is the data form of a slicing-generated substring?\n",
    "\n",
    "Answer--Indexed characters and sliced substrings have datatype String."
   ]
  },
  {
   "cell_type": "code",
   "execution_count": 3,
   "id": "68bf2bc4",
   "metadata": {},
   "outputs": [
    {
     "name": "stdout",
     "output_type": "stream",
     "text": [
      "<class 'str'>\n",
      "<class 'str'>\n"
     ]
    }
   ],
   "source": [
    "string = 'ineuron is the best plateform for learning'\n",
    "print(type(string[2]))\n",
    "print(type(string[2:5]))"
   ]
  },
  {
   "cell_type": "markdown",
   "id": "d001c72b",
   "metadata": {},
   "source": [
    "# Q6. What is the relationship between string and character \"types\" in Python?\n",
    "\n",
    "Answer--Object that contains sequence of character datatypes are called String."
   ]
  },
  {
   "cell_type": "markdown",
   "id": "3447c145",
   "metadata": {},
   "source": [
    "# Q7. Identify at least two operators & one method that allow you to combine one or more smaller strings to create a larger string ?\n",
    "\n",
    "Answer-- '+','*' and '.join()' method used to combine the string."
   ]
  },
  {
   "cell_type": "code",
   "execution_count": 7,
   "id": "2dcace33",
   "metadata": {},
   "outputs": [
    {
     "name": "stdout",
     "output_type": "stream",
     "text": [
      "VishalSingh\n"
     ]
    }
   ],
   "source": [
    "var1 = 'Vishal'\n",
    "var2 = 'Singh'\n",
    "result = var1 + var2\n",
    "print(result)"
   ]
  },
  {
   "cell_type": "code",
   "execution_count": 5,
   "id": "c3782348",
   "metadata": {},
   "outputs": [
    {
     "name": "stdout",
     "output_type": "stream",
     "text": [
      "VishalVishal\n"
     ]
    }
   ],
   "source": [
    "print(var1*2)"
   ]
  },
  {
   "cell_type": "code",
   "execution_count": 6,
   "id": "84839b94",
   "metadata": {},
   "outputs": [
    {
     "data": {
      "text/plain": [
       "'V i s h a l S i n g h'"
      ]
     },
     "execution_count": 6,
     "metadata": {},
     "output_type": "execute_result"
    }
   ],
   "source": [
    "\" \".join(result)"
   ]
  },
  {
   "cell_type": "markdown",
   "id": "0637aa93",
   "metadata": {},
   "source": [
    "# Q8. What is the benefit of first checking the target string with in or not in before using the index method to find a substring?\n",
    "\n",
    "Answer-- Checking the target string with in or not Operators before using the index method to find a substring just helps confirming availability of substring and thus avoid raising of ValueError."
   ]
  },
  {
   "cell_type": "code",
   "execution_count": 14,
   "id": "85eaa517",
   "metadata": {},
   "outputs": [
    {
     "ename": "ValueError",
     "evalue": "substring not found",
     "output_type": "error",
     "traceback": [
      "\u001b[1;31m---------------------------------------------------------------------------\u001b[0m",
      "\u001b[1;31mValueError\u001b[0m                                Traceback (most recent call last)",
      "Input \u001b[1;32mIn [14]\u001b[0m, in \u001b[0;36m<cell line: 2>\u001b[1;34m()\u001b[0m\n\u001b[0;32m      1\u001b[0m string \u001b[38;5;241m=\u001b[39m \u001b[38;5;124m'\u001b[39m\u001b[38;5;124mvishal\u001b[39m\u001b[38;5;124m'\u001b[39m\n\u001b[1;32m----> 2\u001b[0m \u001b[43mstring\u001b[49m\u001b[38;5;241;43m.\u001b[39;49m\u001b[43mindex\u001b[49m\u001b[43m(\u001b[49m\u001b[38;5;124;43m'\u001b[39;49m\u001b[38;5;124;43mu\u001b[39;49m\u001b[38;5;124;43m'\u001b[39;49m\u001b[43m)\u001b[49m\n",
      "\u001b[1;31mValueError\u001b[0m: substring not found"
     ]
    }
   ],
   "source": [
    "string = 'vishal'\n",
    "string.index('u')"
   ]
  },
  {
   "cell_type": "code",
   "execution_count": 13,
   "id": "952aeaa0",
   "metadata": {},
   "outputs": [
    {
     "data": {
      "text/plain": [
       "0"
      ]
     },
     "execution_count": 13,
     "metadata": {},
     "output_type": "execute_result"
    }
   ],
   "source": [
    "string.index('v')"
   ]
  },
  {
   "cell_type": "markdown",
   "id": "4e8f499c",
   "metadata": {},
   "source": [
    "# Q9. Which operators and built-in string methods produce simple Boolean (true/false) results?\n",
    "\n",
    "Answer--\n",
    "\n",
    "1).in\n",
    "2).not\n",
    "3).<string>.isalpha()\n",
    "4).<string>.isalnum()\n",
    "5).<string>.isdecimal()\n",
    "6).<string>.isdigit()\n",
    "7).<string>.islower()\n",
    "8).<string>.isnumeric()\n",
    "9).<string>.isprintable()\n",
    "10).<string>.isspace()\n",
    "11).<string>.istitle()"
   ]
  }
 ],
 "metadata": {
  "kernelspec": {
   "display_name": "Python 3 (ipykernel)",
   "language": "python",
   "name": "python3"
  },
  "language_info": {
   "codemirror_mode": {
    "name": "ipython",
    "version": 3
   },
   "file_extension": ".py",
   "mimetype": "text/x-python",
   "name": "python",
   "nbconvert_exporter": "python",
   "pygments_lexer": "ipython3",
   "version": "3.9.12"
  }
 },
 "nbformat": 4,
 "nbformat_minor": 5
}
