{
 "cells": [
  {
   "cell_type": "markdown",
   "id": "7d20d14a",
   "metadata": {},
   "source": [
    "# Q1. Can you create a programme or function that employs both positive and negative indexing? Is there any repercussion if you do so?\n",
    "\n",
    "Answer--yes"
   ]
  },
  {
   "cell_type": "code",
   "execution_count": 1,
   "id": "3af5e286",
   "metadata": {},
   "outputs": [
    {
     "name": "stdout",
     "output_type": "stream",
     "text": [
      "3\n",
      "5\n"
     ]
    }
   ],
   "source": [
    "def get_element(arr, index):\n",
    "    if index >= 0:\n",
    "        return arr[index]\n",
    "    else:\n",
    "        return arr[len(arr) + index]\n",
    "\n",
    "my_list = [1, 2, 3, 4, 5]\n",
    "print(get_element(my_list, 2))\n",
    "print(get_element(my_list, -1))  \n"
   ]
  },
  {
   "cell_type": "markdown",
   "id": "94a58c47",
   "metadata": {},
   "source": [
    "# Q2. What is the most effective way of starting with 1,000 elements in a Python list? Assume that all elements should be set to the same value."
   ]
  },
  {
   "cell_type": "code",
   "execution_count": 7,
   "id": "2f891f1c",
   "metadata": {},
   "outputs": [],
   "source": [
    "value = 0\n",
    "my_list = []\n",
    "my_list.extend([value] * 1000)\n"
   ]
  },
  {
   "cell_type": "markdown",
   "id": "82dc62b3",
   "metadata": {},
   "source": [
    "# Q3. How do you slice a list to get any other part while missing the rest? (For example, suppose you want to make a new list with the elements first, third, fifth, seventh, and so on.)"
   ]
  },
  {
   "cell_type": "code",
   "execution_count": 10,
   "id": "d48094e0",
   "metadata": {},
   "outputs": [
    {
     "data": {
      "text/plain": [
       "[0, 2, 4, 6, 8]"
      ]
     },
     "execution_count": 10,
     "metadata": {},
     "output_type": "execute_result"
    }
   ],
   "source": [
    "lst = [0,1,2,3,4,5,6,7,8,9]\n",
    "new_list = lst[::2]\n",
    "new_list"
   ]
  },
  {
   "cell_type": "markdown",
   "id": "17663948",
   "metadata": {},
   "source": [
    "# Q4. Explain the distinctions between indexing and slicing.\n",
    "\n",
    "Answer--“Indexing” means referring to an element of an iterable by its position within the iterable. “Slicing” means getting a subset of elements from an iterable based on their indices."
   ]
  },
  {
   "cell_type": "markdown",
   "id": "a2abbf03",
   "metadata": {},
   "source": [
    "# Q5. What happens if one of the slicing expression's indexes is out of range?\n",
    "Answer-- it simply returns an empty sequence."
   ]
  },
  {
   "cell_type": "markdown",
   "id": "7051ea93",
   "metadata": {},
   "source": [
    "# Q6. If you pass a list to a function, and if you want the function to be able to change the values of the list—so that the list is different after the function returns—what action should you avoid?\n",
    "\n",
    "Answer--If you want a function to be able to modify the values of a list that is passed to it, you should avoid reassigning the list itself within the function. This means you should avoid assigning a new list object to the variable that holds the original list. If you do so, the changes made within the function will only affect the new list, not the original one."
   ]
  },
  {
   "cell_type": "code",
   "execution_count": 11,
   "id": "c57a5cf5",
   "metadata": {},
   "outputs": [
    {
     "name": "stdout",
     "output_type": "stream",
     "text": [
      "[4, 5, 6]\n"
     ]
    }
   ],
   "source": [
    "def modify_list(my_list):\n",
    "    my_list = [1, 2, 3] \n",
    "\n",
    "my_list = [4, 5, 6]\n",
    "modify_list(my_list)\n",
    "print(my_list)\n"
   ]
  },
  {
   "cell_type": "markdown",
   "id": "d80472ca",
   "metadata": {},
   "source": [
    "# Q7. What is the concept of an unbalanced matrix?\n",
    "Answer--The concept of an unbalanced matrix typically refers to a matrix where the number of rows is not equal to the number of columns. In other words, the matrix does not have an equal number of elements in each row and each column."
   ]
  },
  {
   "cell_type": "markdown",
   "id": "d0ef716d",
   "metadata": {},
   "source": [
    "# Q8. Why is it necessary to use either list comprehension or a loop to create arbitrarily large matrices?\n",
    "Answer--It is necessary to use either list comprehension or a loop to create arbitrarily large matrices because these techniques allow for dynamic and iterative generation of matrix elements. Arbitrarily large matrices refer to matrices that can have a variable size, potentially containing a large number of rows and columns."
   ]
  }
 ],
 "metadata": {
  "kernelspec": {
   "display_name": "Python 3 (ipykernel)",
   "language": "python",
   "name": "python3"
  },
  "language_info": {
   "codemirror_mode": {
    "name": "ipython",
    "version": 3
   },
   "file_extension": ".py",
   "mimetype": "text/x-python",
   "name": "python",
   "nbconvert_exporter": "python",
   "pygments_lexer": "ipython3",
   "version": "3.9.12"
  }
 },
 "nbformat": 4,
 "nbformat_minor": 5
}
