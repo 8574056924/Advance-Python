{
 "cells": [
  {
   "cell_type": "markdown",
   "id": "55dd2324",
   "metadata": {},
   "source": [
    "# Q1. In Python 3.X, what are the names and functions of string object types?\n",
    "\n",
    "Answer-In Python 3.x, there are three main string object types:\n",
    "\n",
    "str: The str type represents a Unicode string in Python. It is the default string type in Python 3.x. The str type is versatile and allows you to work with text in various encodings and languages. It provides a wide range of methods for manipulating and formatting strings, such as upper(), lower(), split(), join(), and many more. Strings of type str are immutable, meaning they cannot be modified once created.\n",
    "\n",
    "str.isalnum()\tString consists of only alphanumeric characters (no symbols)\n",
    "str.isalpha()\tString consists of only alphabetic characters (no symbols)\n",
    "str.islower()\tString’s alphabetic characters are all lower case\n",
    "str.isnumeric()\tString consists of only numeric characters\n",
    "str.isspace()\tString consists of only whitespace characters\n",
    "str.istitle()\tString is in title case\n",
    "str.isupper()\tString’s alphabetic characters are all upper case"
   ]
  },
  {
   "cell_type": "markdown",
   "id": "f25d4a03",
   "metadata": {},
   "source": [
    "# Q2. How do the string forms in Python 3.X vary in terms of operations?\n",
    "Answer--In Python3 default format of strings is Unicode Whereas in Pyton2 we need to explicitly mention Unicode value using u."
   ]
  },
  {
   "cell_type": "markdown",
   "id": "ac6d4022",
   "metadata": {},
   "source": [
    "# Q3. In Python 3.X, how do you put non-ASCII Unicode characters in a string?\n",
    "Answer--In Python 3.x unidecode() method from unidecode library can be used to put non-ASCII Unicode Characters in a string.\n"
   ]
  },
  {
   "cell_type": "code",
   "execution_count": 5,
   "id": "aac12e89",
   "metadata": {},
   "outputs": [
    {
     "name": "stdout",
     "output_type": "stream",
     "text": [
      "kozuscek\n",
      "arigatou. \n",
      "ulybat'sia Vladimir Putin\n"
     ]
    }
   ],
   "source": [
    "from unidecode import unidecode\n",
    "print(unidecode(u'ko\\u017eu\\u0161\\u010dek'))\n",
    "print(unidecode(\"ありがとう。\"))\n",
    "print(unidecode(\"улыбаться Владимир Путин\"))"
   ]
  },
  {
   "cell_type": "markdown",
   "id": "170d493a",
   "metadata": {},
   "source": [
    "# Q4. In Python 3.X, what are the key differences between text-mode and binary-mode files?\n",
    "Answer--Text-mode files are suitable for handling textual data and provide convenient encoding/decoding and newline handling. Binary-mode files are ideal for working with non-textual data, binary file formats, or when precise control over the byte content is required."
   ]
  },
  {
   "cell_type": "markdown",
   "id": "786d7a9a",
   "metadata": {},
   "source": [
    "# Q5. How can you interpret a Unicode text file containing text encoded in a different encoding than your platform's default?\n",
    "Ans: Use of encode() and decode() method can be used to you interpret a Unicode text file containing text encoded in a different encoding than your platform's default, by default encoding parameter is UTF-8"
   ]
  },
  {
   "cell_type": "markdown",
   "id": "1bee99cf",
   "metadata": {},
   "source": [
    "# Q6. What is the best way to make a Unicode text file in a particular encoding format?\n",
    "Answer--Use str.encode() and file.write() to make a Unicode text file in a particular encoding format, default encoding format is UTF-18.\n",
    "\n",
    "Call str.encode(encoding) with encoding set to utf8 to encode str.\n",
    "Call open(file, mode) to open a file with mode set to wb . wb writes to files in binary mode & preserves UTF-8format.\n",
    "Call file.write(data) to write data to the file."
   ]
  },
  {
   "cell_type": "markdown",
   "id": "5d2ed7a9",
   "metadata": {},
   "source": [
    "# Q7. What qualifies ASCII text as a form of Unicode text?\n",
    "Answer-- Unicode represents most written languages in the world. ASCII has its equivalent in Unicode. The difference between ASCII and Unicode is that ASCII represents lowercase letters (a-z), uppercase letters (A-Z), digits (0–9) and symbols such as punctuation marks while Unicode represents letters of English, Arabic, Greek etc. mathematical symbols, historical scripts, emoji covering a wide range of characters than ASCII."
   ]
  },
  {
   "cell_type": "markdown",
   "id": "fbe793b8",
   "metadata": {},
   "source": [
    "# Q8. How much of an effect does the change in string types in Python 3.X have on your code?\n",
    "Answer-- Python 3 stores strings as Unicode by default whereas Python 2 requires you to mark a string with a u if you want to store it as Unicode. Unicode strings are more versatile than ASCII strings, which are the Python 3.X default, as they can store letters from foreign languages as well as emoji and the standard Roman letters and numerals."
   ]
  }
 ],
 "metadata": {
  "kernelspec": {
   "display_name": "Python 3 (ipykernel)",
   "language": "python",
   "name": "python3"
  },
  "language_info": {
   "codemirror_mode": {
    "name": "ipython",
    "version": 3
   },
   "file_extension": ".py",
   "mimetype": "text/x-python",
   "name": "python",
   "nbconvert_exporter": "python",
   "pygments_lexer": "ipython3",
   "version": "3.9.12"
  }
 },
 "nbformat": 4,
 "nbformat_minor": 5
}
