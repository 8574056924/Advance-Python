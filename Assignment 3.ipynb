{
 "cells": [
  {
   "cell_type": "markdown",
   "id": "37d75fe4",
   "metadata": {},
   "source": [
    "# 1. What is the concept of an abstract superclass?\n",
    "\n",
    "Answer--it can be considered as a blueprint for other classes. It allows you to create a set of methods that must be created within any child classes built from the abstract class. A class which contains one or more abstract methods is called an abstract class."
   ]
  },
  {
   "cell_type": "markdown",
   "id": "c688a77d",
   "metadata": {},
   "source": [
    "# 2. What happens when a class statement&#39;s top level contains a basic assignment statement?\n",
    "\n",
    "Answer-- In Python, when a class statement's top level contains a basic assignment statement, it is used to create a class-level variable. This means that the assigned value will be shared among all instances (objects) of that class."
   ]
  },
  {
   "cell_type": "markdown",
   "id": "71ae56fe",
   "metadata": {},
   "source": [
    "# 3. Why does a class need to manually call a superclass's __init__ method?\n",
    "\n",
    "Answer--It's because one needs to define something that is NOT done in the base-class' __init__ , and the only possibility to obtain that is to put its execution in a derived-class' __init__ function."
   ]
  },
  {
   "cell_type": "markdown",
   "id": "f661d075",
   "metadata": {},
   "source": [
    "# 4. How can you augment, instead of completely replacing, an inherited method?\n",
    "\n",
    "Answer--1).Define the subclass and inherit from the superclass.\n",
    "2).Create a method in the subclass with the same name as the method you want to augment in the superclass.\n",
    "3).Inside the subclass method, use the super() function to call the superclass's version of the method.\n",
    "4).Add any additional functionality specific to the subclass."
   ]
  },
  {
   "cell_type": "markdown",
   "id": "7e82e94b",
   "metadata": {},
   "source": [
    "# 5. How is the local scope of a class different from that of a function?\n",
    "Answer-- the local scope of a class differs from that of a function in terms of accessible variables, lifetime, visibility, method scope, namespace, and inheritance. Classes have broader access and persistence of variables within the class and its instances, while functions have more limited and temporary access to variables within the function's scope."
   ]
  }
 ],
 "metadata": {
  "kernelspec": {
   "display_name": "Python 3 (ipykernel)",
   "language": "python",
   "name": "python3"
  },
  "language_info": {
   "codemirror_mode": {
    "name": "ipython",
    "version": 3
   },
   "file_extension": ".py",
   "mimetype": "text/x-python",
   "name": "python",
   "nbconvert_exporter": "python",
   "pygments_lexer": "ipython3",
   "version": "3.9.12"
  }
 },
 "nbformat": 4,
 "nbformat_minor": 5
}
