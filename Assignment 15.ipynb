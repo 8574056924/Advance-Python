{
 "cells": [
  {
   "cell_type": "markdown",
   "id": "323c73c3",
   "metadata": {},
   "source": [
    "# 1. What are the new features added in Python 3.8 version?\n",
    "\n",
    "Answer--Reversible Dictionaries: The reversed() function is now supported on dictionary objects, allowing iteration over keys and values in reverse order.\n",
    "\n",
    "Simpler Syntax for Type Hints: Python 3.8 introduced a more concise and simplified syntax for type hints, allowing the use of typing.List and typing.Dict without importing the typing module explicitly."
   ]
  },
  {
   "cell_type": "markdown",
   "id": "461a6423",
   "metadata": {},
   "source": [
    "# 2. What is monkey patching in Python?\n",
    "\n",
    "Answer--Monkey patching in python refers to modifying or updating a piece of code or class or any module at the runtime."
   ]
  },
  {
   "cell_type": "markdown",
   "id": "49cd22f6",
   "metadata": {},
   "source": [
    "# 3. What is the difference between a shallow copy and deep copy?\n",
    "\n",
    "Answer--Shallow Copy: Shallow repetition is quicker. However, it’s “lazy” it handles pointers and references. Rather than creating a contemporary copy of the particular knowledge the pointer points to, it simply copies over the pointer price. So, each of the first and therefore the copy can have pointers that reference constant underlying knowledge.\n",
    "\n",
    "Deep Copy: Deep repetition truly clones the underlying data. It is not shared between the first and therefore the copy.\n"
   ]
  },
  {
   "cell_type": "markdown",
   "id": "0a44fdf6",
   "metadata": {},
   "source": [
    "# 4. What is the maximum possible length of an identifier?\n",
    "Answer-- 79 characters"
   ]
  },
  {
   "cell_type": "markdown",
   "id": "d49d9391",
   "metadata": {},
   "source": [
    "# 5. What is generator comprehension?\n",
    "Answer--Generator comprehension, also known as generator expression, is a concise way to create a generator in Python. It is similar to list comprehensions, but instead of creating a list, it creates a generator object, which generates values on-demand."
   ]
  },
  {
   "cell_type": "code",
   "execution_count": null,
   "id": "1b645a37",
   "metadata": {},
   "outputs": [],
   "source": []
  }
 ],
 "metadata": {
  "kernelspec": {
   "display_name": "Python 3 (ipykernel)",
   "language": "python",
   "name": "python3"
  },
  "language_info": {
   "codemirror_mode": {
    "name": "ipython",
    "version": 3
   },
   "file_extension": ".py",
   "mimetype": "text/x-python",
   "name": "python",
   "nbconvert_exporter": "python",
   "pygments_lexer": "ipython3",
   "version": "3.9.12"
  }
 },
 "nbformat": 4,
 "nbformat_minor": 5
}
