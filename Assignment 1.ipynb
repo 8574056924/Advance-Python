{
 "cells": [
  {
   "cell_type": "markdown",
   "id": "dc25f726",
   "metadata": {},
   "source": [
    "# Q1. What is the purpose of Python's OOP?\n",
    "\n",
    "Answer-- In Python, object-oriented Programming (OOPs) is a programming paradigm that uses objects and classes in programming. It aims to implement real-world entities like inheritance, polymorphisms, encapsulation, etc. in the programming. The main concept of OOPs is to bind the data and the functions that work on that together as a single unit so that no other part of the code can access this data."
   ]
  },
  {
   "cell_type": "markdown",
   "id": "67a1bc47",
   "metadata": {},
   "source": [
    "# Q2. Where does an inheritance search look for an attribute?\n",
    "\n",
    "Answer-- An inheritance search looks for an attribute first in the instance object, then in the class the instance was created from, then in all higher superclasses, progressing from left to right (by default). The search stops at the first place the attribute is found."
   ]
  },
  {
   "cell_type": "markdown",
   "id": "6d3e8311",
   "metadata": {},
   "source": [
    "# Q3. How do you distinguish between a class object and an instance object?\n",
    "\n",
    "Answer-- 1).A class object is created when a class is defined in Python.\n",
    "2).It serves as a blueprint or template for creating instance objects.\n",
    "3).Class objects define the attributes (variables) and methods (functions) that instances of the class will possess.\n",
    "4). if you have a class called MyClass, you can access its attributes like MyClass.attribute and its methods like MyClass.method().\n",
    "\n",
    "Instance -- 1).An instance object, also known as an instance, is created when you instantiate a class in Python.\n",
    "2).It represents a specific occurrence or realization of the class.\n",
    "3).Each instance has its own set of attribute values, which can be different from other instances of the same class.\n",
    "4).Instance objects can access the attributes and methods defined in their class.\n",
    "5).if you have a class called MyClass, you can create an instance object like my_object = MyClass()"
   ]
  },
  {
   "cell_type": "markdown",
   "id": "463fc641",
   "metadata": {},
   "source": [
    "# Q4. What makes the first argument in a class’s method function special?\n",
    "Answer--The keyword self represents the instance of a class and binds the attributes with the given arguments."
   ]
  },
  {
   "cell_type": "markdown",
   "id": "8bf38e14",
   "metadata": {},
   "source": [
    "# Q5. What is the purpose of the init method?\n",
    "Answer--The __init__  function is called every time an object is created from a class. The __init__ method lets the class initialize the object’s attributes and serves no other purpose. It is only used within classes. "
   ]
  },
  {
   "cell_type": "markdown",
   "id": "f143ed75",
   "metadata": {},
   "source": [
    "# Q6. What is the process for creating a class instance?\n",
    "Answer--To create instances of a class, you call the class using class name and pass in whatever arguments its __init__ method accepts."
   ]
  },
  {
   "cell_type": "markdown",
   "id": "20534847",
   "metadata": {},
   "source": [
    "# Q7. What is the process for creating a class?\n",
    "Answer--class ClassName:\n",
    "    # Statement"
   ]
  },
  {
   "cell_type": "markdown",
   "id": "6e805a67",
   "metadata": {},
   "source": [
    "# Q8. How would you define the superclasses of a class?\n",
    "Answer--The class from which a class inherits is called the parent or superclass."
   ]
  }
 ],
 "metadata": {
  "kernelspec": {
   "display_name": "Python 3 (ipykernel)",
   "language": "python",
   "name": "python3"
  },
  "language_info": {
   "codemirror_mode": {
    "name": "ipython",
    "version": 3
   },
   "file_extension": ".py",
   "mimetype": "text/x-python",
   "name": "python",
   "nbconvert_exporter": "python",
   "pygments_lexer": "ipython3",
   "version": "3.9.12"
  }
 },
 "nbformat": 4,
 "nbformat_minor": 5
}
